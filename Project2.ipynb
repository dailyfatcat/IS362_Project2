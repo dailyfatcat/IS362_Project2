{
 "cells": [
  {
   "cell_type": "markdown",
   "metadata": {
    "collapsed": true,
    "pycharm": {
     "name": "#%% md\n"
    }
   },
   "source": [
    "Project 2\n",
    "=======================================\n",
    "Assignment: Choose any three of the “wide” datasets identified in the Week 5 Discussion items\n",
    "Create a CSV file with the information from the datasets.\n",
    "These CSVs have been saved to the Github repository for this project."
   ]
  },
  {
   "cell_type": "code",
   "execution_count": 302,
   "outputs": [],
   "source": [
    "#import statements\n",
    "import pandas as pd\n",
    "from pandas import DataFrame, Series\n",
    "import numpy as np\n",
    "from matplotlib.pyplot import pie\n",
    "import matplotlib\n",
    "%matplotlib inline\n",
    "\n",
    "#Read the information from your .CSV file into Python, and use pandas as needed to tidy and transform your data.\n",
    "#Reading the data into dataframes\n",
    "vax = pd.read_csv('country_vaccinations.csv') #Covid Vaccines by Wilson\n",
    "netflix = pd.read_csv('netflix_titles.csv') #Netflix by Sarah Morris\n",
    "workouts = pd.read_csv('workouts.csv') #Peloton posted by Sarah May"
   ],
   "metadata": {
    "collapsed": false,
    "pycharm": {
     "name": "#%%\n"
    }
   }
  },
  {
   "cell_type": "markdown",
   "source": [
    "Dataset: Peloton Works posted by Sarah May\n",
    "-----------------------------------------------\n",
    "Looking at the data, all of the rows have some null values and there are three columns that contain only null values.\n",
    "**Tidying the data will involve:**\n",
    "- Remove null columns Avg. Heartrate, Avg. Incline, Avg. Pace(min/max)\n",
    "- Then remove all rows with null values"
   ],
   "metadata": {
    "collapsed": false
   }
  },
  {
   "cell_type": "code",
   "execution_count": 303,
   "outputs": [],
   "source": [
    "#remove unneeded columns\n",
    "workouts.drop(columns=['Avg. Heartrate','Avg. Incline','Avg. Pace (min/mi)'], inplace=True)\n",
    "#drop rows with empty values\n",
    "workouts.dropna(inplace=True, axis='rows')"
   ],
   "metadata": {
    "collapsed": false,
    "pycharm": {
     "name": "#%%\n"
    }
   }
  },
  {
   "cell_type": "markdown",
   "source": [
    "Determine what the unique titles are:"
   ],
   "metadata": {
    "collapsed": false,
    "pycharm": {
     "name": "#%% md\n"
    }
   }
  },
  {
   "cell_type": "code",
   "execution_count": 304,
   "outputs": [
    {
     "data": {
      "text/plain": "array(['45 min Top Hits Ride', '20 min Hip Hop Ride',\n       '30 min Hip Hop Ride', '30 min Club Bangers Ride',\n       '20 min Low Impact Ride', '20 min 90s Ride', '15 min 90s Ride',\n       '15 min Hip Hop Ride', '15 min 2000s Hip Hop Ride',\n       '30 min 90s Hip Hop Ride', '20 min 90s Pop Ride',\n       '20 min 2000s Hip Hop Ride', '10 min Climb Ride',\n       '15 min Boss Ride', '30 min Low Impact Ride', '15 min EDM Ride',\n       '10 min Low Impact Ride', '15 min HIIT Ride', '30 min EDM Ride',\n       '15 min Low Impact Ride', '45 min Power Zone Ride',\n       '30 min Power Zone Ride', '20 min House Ride',\n       '30 min Power Zone Endurance Ride',\n       '45 min Power Zone Endurance Ride', '30 min Power Zone EDM Ride',\n       '20 min Beginner Ride', '20 min 90s Dance Ride',\n       '30 min HIIT & Hills Ride', '30 min 2010s Ride', '45 min EDM Ride',\n       '20 min EDM Ride', '45 min 2010s Ride', '45 min HIIT & Hills Ride',\n       '60 min Power Zone Endurance Ride', '30 min Power Zone Max Ride',\n       '15 min Intro to Groove Ride', '45 min 2000s Ride',\n       '5 min Warm Up Ride', '15 min Feel Good Ride', '20 min Climb Ride',\n       '45 min Pop Ride', '30 min BHM: Fresh Friday Ride',\n       '20 min HIIT Ride', '15 min 2010s Ride', '20 min Groove Ride'],\n      dtype=object)"
     },
     "execution_count": 304,
     "metadata": {},
     "output_type": "execute_result"
    }
   ],
   "source": [
    "workouts['Title'].unique()"
   ],
   "metadata": {
    "collapsed": false,
    "pycharm": {
     "name": "#%%\n"
    }
   }
  },
  {
   "cell_type": "markdown",
   "source": [
    "- The column Avg. Resistance has a percent sign, causing issues with numerical calculations, remove the %\n",
    "- Now we can convert the Avg Resistance column from an object to an int\n",
    "- The Title column includes the length of the workout but this is redundant as it is included in the length column, we remove the time from the title"
   ],
   "metadata": {
    "collapsed": false,
    "pycharm": {
     "name": "#%% md\n"
    }
   }
  },
  {
   "cell_type": "code",
   "execution_count": 305,
   "outputs": [],
   "source": [
    "workouts['Avg. Resistance'] = workouts['Avg. Resistance'].map(lambda x: x.rstrip('%'))\n",
    "workouts['Avg. Resistance'] = pd.to_numeric(workouts['Avg. Resistance'])\n",
    "workouts['Title'].replace({'^...min.':\"\", '^[0-9].min.':\"\"}, regex=True, inplace=True)"
   ],
   "metadata": {
    "collapsed": false,
    "pycharm": {
     "name": "#%%\n"
    }
   }
  },
  {
   "cell_type": "markdown",
   "source": [
    "The dataset has been tidied and transformed.\n",
    "There was no analysis suggestion in the discussion post.\n",
    "**Results** The analysis will look at the average, min and max calories burned over the types of unique workouts."
   ],
   "metadata": {
    "collapsed": false
   }
  },
  {
   "cell_type": "code",
   "execution_count": 306,
   "outputs": [
    {
     "data": {
      "text/plain": "                           count        mean    max    min\nTitle                                                     \n2000s Hip Hop Ride             2  122.000000  142.0  102.0\n2000s Ride                     1  286.000000  286.0  286.0\n2010s Ride                     3  179.666667  272.0   87.0\n90s Dance Ride                 1  119.000000  119.0  119.0\n90s Hip Hop Ride               1  220.000000  220.0  220.0\n90s Pop Ride                   2  143.500000  150.0  137.0\n90s Ride                       2  110.500000  122.0   99.0\nBHM: Fresh Friday Ride         1  189.000000  189.0  189.0\nBeginner Ride                  1  124.000000  124.0  124.0\nBoss Ride                      1  108.000000  108.0  108.0\nClimb Ride                     5   81.600000  116.0   70.0\nClub Bangers Ride              1  180.000000  180.0  180.0\nEDM Ride                       6  157.500000  259.0   99.0\nFeel Good Ride                 1   99.000000   99.0   99.0\nGroove Ride                    1  124.000000  124.0  124.0\nHIIT & Hills Ride              2  238.000000  267.0  209.0\nHIIT Ride                      2  107.500000  119.0   96.0\nHip Hop Ride                   9  136.888889  213.0  102.0\nHouse Ride                     1  161.000000  161.0  161.0\nIntro to Groove Ride           1   84.000000   84.0   84.0\nLow Impact Ride               10   92.500000  164.0   56.0\nPop Ride                       1  297.000000  297.0  297.0\nPower Zone EDM Ride            1  216.000000  216.0  216.0\nPower Zone Endurance Ride      5  270.800000  365.0  177.0\nPower Zone Max Ride            1  153.000000  153.0  153.0\nPower Zone Ride                2  204.000000  211.0  197.0\nTop Hits Ride                  1  347.000000  347.0  347.0\nWarm Up Ride                   7   23.571429   30.0   21.0",
      "text/html": "<div>\n<style scoped>\n    .dataframe tbody tr th:only-of-type {\n        vertical-align: middle;\n    }\n\n    .dataframe tbody tr th {\n        vertical-align: top;\n    }\n\n    .dataframe thead th {\n        text-align: right;\n    }\n</style>\n<table border=\"1\" class=\"dataframe\">\n  <thead>\n    <tr style=\"text-align: right;\">\n      <th></th>\n      <th>count</th>\n      <th>mean</th>\n      <th>max</th>\n      <th>min</th>\n    </tr>\n    <tr>\n      <th>Title</th>\n      <th></th>\n      <th></th>\n      <th></th>\n      <th></th>\n    </tr>\n  </thead>\n  <tbody>\n    <tr>\n      <th>2000s Hip Hop Ride</th>\n      <td>2</td>\n      <td>122.000000</td>\n      <td>142.0</td>\n      <td>102.0</td>\n    </tr>\n    <tr>\n      <th>2000s Ride</th>\n      <td>1</td>\n      <td>286.000000</td>\n      <td>286.0</td>\n      <td>286.0</td>\n    </tr>\n    <tr>\n      <th>2010s Ride</th>\n      <td>3</td>\n      <td>179.666667</td>\n      <td>272.0</td>\n      <td>87.0</td>\n    </tr>\n    <tr>\n      <th>90s Dance Ride</th>\n      <td>1</td>\n      <td>119.000000</td>\n      <td>119.0</td>\n      <td>119.0</td>\n    </tr>\n    <tr>\n      <th>90s Hip Hop Ride</th>\n      <td>1</td>\n      <td>220.000000</td>\n      <td>220.0</td>\n      <td>220.0</td>\n    </tr>\n    <tr>\n      <th>90s Pop Ride</th>\n      <td>2</td>\n      <td>143.500000</td>\n      <td>150.0</td>\n      <td>137.0</td>\n    </tr>\n    <tr>\n      <th>90s Ride</th>\n      <td>2</td>\n      <td>110.500000</td>\n      <td>122.0</td>\n      <td>99.0</td>\n    </tr>\n    <tr>\n      <th>BHM: Fresh Friday Ride</th>\n      <td>1</td>\n      <td>189.000000</td>\n      <td>189.0</td>\n      <td>189.0</td>\n    </tr>\n    <tr>\n      <th>Beginner Ride</th>\n      <td>1</td>\n      <td>124.000000</td>\n      <td>124.0</td>\n      <td>124.0</td>\n    </tr>\n    <tr>\n      <th>Boss Ride</th>\n      <td>1</td>\n      <td>108.000000</td>\n      <td>108.0</td>\n      <td>108.0</td>\n    </tr>\n    <tr>\n      <th>Climb Ride</th>\n      <td>5</td>\n      <td>81.600000</td>\n      <td>116.0</td>\n      <td>70.0</td>\n    </tr>\n    <tr>\n      <th>Club Bangers Ride</th>\n      <td>1</td>\n      <td>180.000000</td>\n      <td>180.0</td>\n      <td>180.0</td>\n    </tr>\n    <tr>\n      <th>EDM Ride</th>\n      <td>6</td>\n      <td>157.500000</td>\n      <td>259.0</td>\n      <td>99.0</td>\n    </tr>\n    <tr>\n      <th>Feel Good Ride</th>\n      <td>1</td>\n      <td>99.000000</td>\n      <td>99.0</td>\n      <td>99.0</td>\n    </tr>\n    <tr>\n      <th>Groove Ride</th>\n      <td>1</td>\n      <td>124.000000</td>\n      <td>124.0</td>\n      <td>124.0</td>\n    </tr>\n    <tr>\n      <th>HIIT &amp; Hills Ride</th>\n      <td>2</td>\n      <td>238.000000</td>\n      <td>267.0</td>\n      <td>209.0</td>\n    </tr>\n    <tr>\n      <th>HIIT Ride</th>\n      <td>2</td>\n      <td>107.500000</td>\n      <td>119.0</td>\n      <td>96.0</td>\n    </tr>\n    <tr>\n      <th>Hip Hop Ride</th>\n      <td>9</td>\n      <td>136.888889</td>\n      <td>213.0</td>\n      <td>102.0</td>\n    </tr>\n    <tr>\n      <th>House Ride</th>\n      <td>1</td>\n      <td>161.000000</td>\n      <td>161.0</td>\n      <td>161.0</td>\n    </tr>\n    <tr>\n      <th>Intro to Groove Ride</th>\n      <td>1</td>\n      <td>84.000000</td>\n      <td>84.0</td>\n      <td>84.0</td>\n    </tr>\n    <tr>\n      <th>Low Impact Ride</th>\n      <td>10</td>\n      <td>92.500000</td>\n      <td>164.0</td>\n      <td>56.0</td>\n    </tr>\n    <tr>\n      <th>Pop Ride</th>\n      <td>1</td>\n      <td>297.000000</td>\n      <td>297.0</td>\n      <td>297.0</td>\n    </tr>\n    <tr>\n      <th>Power Zone EDM Ride</th>\n      <td>1</td>\n      <td>216.000000</td>\n      <td>216.0</td>\n      <td>216.0</td>\n    </tr>\n    <tr>\n      <th>Power Zone Endurance Ride</th>\n      <td>5</td>\n      <td>270.800000</td>\n      <td>365.0</td>\n      <td>177.0</td>\n    </tr>\n    <tr>\n      <th>Power Zone Max Ride</th>\n      <td>1</td>\n      <td>153.000000</td>\n      <td>153.0</td>\n      <td>153.0</td>\n    </tr>\n    <tr>\n      <th>Power Zone Ride</th>\n      <td>2</td>\n      <td>204.000000</td>\n      <td>211.0</td>\n      <td>197.0</td>\n    </tr>\n    <tr>\n      <th>Top Hits Ride</th>\n      <td>1</td>\n      <td>347.000000</td>\n      <td>347.0</td>\n      <td>347.0</td>\n    </tr>\n    <tr>\n      <th>Warm Up Ride</th>\n      <td>7</td>\n      <td>23.571429</td>\n      <td>30.0</td>\n      <td>21.0</td>\n    </tr>\n  </tbody>\n</table>\n</div>"
     },
     "execution_count": 306,
     "metadata": {},
     "output_type": "execute_result"
    }
   ],
   "source": [
    "workouts.groupby('Title').CaloriesBurned.agg(['count', 'mean', 'max', 'min'])"
   ],
   "metadata": {
    "collapsed": false,
    "pycharm": {
     "name": "#%%\n"
    }
   }
  },
  {
   "cell_type": "markdown",
   "source": [
    "Dataset: Netflix Data posted by Sarah Morris\n",
    "-----------------------------------------------\n",
    "This data is a wide dataset, there are multiple columns that are not needed for analysis.\n",
    "- Remove the description field, cast and director reducing the overall size of the dataset\n",
    "- Remove entries that do not have countries listed"
   ],
   "metadata": {
    "collapsed": false,
    "pycharm": {
     "name": "#%% md\n"
    }
   }
  },
  {
   "cell_type": "code",
   "execution_count": 307,
   "outputs": [],
   "source": [
    "netflix.drop(columns=['description','cast','director'], inplace=True )\n",
    "netflix.dropna(subset=['country'], how='any', inplace=True)\n",
    "netflix.dropna(subset=['rating'], how='any', inplace=True)"
   ],
   "metadata": {
    "collapsed": false,
    "pycharm": {
     "name": "#%%\n"
    }
   }
  },
  {
   "cell_type": "markdown",
   "source": [
    "For this dataset we want to know what rating type has the most counts and in what years\n",
    "We are going to analyze this only for the United States, within the last 10 years\n",
    "- Return only results that have United States in the Country\n",
    "- Determine the number of ratings for each year\n",
    "- Find only the years greater than or equal to 2010"
   ],
   "metadata": {
    "collapsed": false,
    "pycharm": {
     "name": "#%% md\n"
    }
   }
  },
  {
   "cell_type": "code",
   "execution_count": 308,
   "outputs": [
    {
     "data": {
      "text/plain": "     release_year rating  count\n315          2019  TV-MA    218\n306          2018  TV-MA    198\n294          2017  TV-MA    196\n325          2020  TV-MA    152\n284          2016  TV-MA    114",
      "text/html": "<div>\n<style scoped>\n    .dataframe tbody tr th:only-of-type {\n        vertical-align: middle;\n    }\n\n    .dataframe tbody tr th {\n        vertical-align: top;\n    }\n\n    .dataframe thead th {\n        text-align: right;\n    }\n</style>\n<table border=\"1\" class=\"dataframe\">\n  <thead>\n    <tr style=\"text-align: right;\">\n      <th></th>\n      <th>release_year</th>\n      <th>rating</th>\n      <th>count</th>\n    </tr>\n  </thead>\n  <tbody>\n    <tr>\n      <th>315</th>\n      <td>2019</td>\n      <td>TV-MA</td>\n      <td>218</td>\n    </tr>\n    <tr>\n      <th>306</th>\n      <td>2018</td>\n      <td>TV-MA</td>\n      <td>198</td>\n    </tr>\n    <tr>\n      <th>294</th>\n      <td>2017</td>\n      <td>TV-MA</td>\n      <td>196</td>\n    </tr>\n    <tr>\n      <th>325</th>\n      <td>2020</td>\n      <td>TV-MA</td>\n      <td>152</td>\n    </tr>\n    <tr>\n      <th>284</th>\n      <td>2016</td>\n      <td>TV-MA</td>\n      <td>114</td>\n    </tr>\n  </tbody>\n</table>\n</div>"
     },
     "execution_count": 308,
     "metadata": {},
     "output_type": "execute_result"
    }
   ],
   "source": [
    "netflixUS = netflix[netflix['country'].str.contains(\"United States\")]\n",
    "grouped = netflixUS.groupby(['release_year', 'rating']).size().reset_index(name='count')\n",
    "groups = grouped[grouped.release_year >= 2010]\n",
    "groups.sort_values(by=['count'],ascending=False).head()"
   ],
   "metadata": {
    "collapsed": false,
    "pycharm": {
     "name": "#%%\n"
    }
   }
  },
  {
   "cell_type": "markdown",
   "source": [
    "**Result:** We can see that the top 5 results are all TV-MA\n",
    "TV-MA:  \"This program is intended to be viewed by mature, adult audiences and may be unsuitable for children under 17\"\n",
    "We can conclude that the most popular releases by Netflix are TV-MA as they look to appeal to an adult audience which should represent most of their user base.\n",
    "\n",
    "Dataset: Vaccination Progress Data posted by Wilson NG\n",
    "-----------------------------------------------\n",
    "- This dataset contains many more columns than we need for analysis\n",
    "- This dataset is a wide dataset that has multiple columns that may have null values, drop rows if null for country\n",
    "- Fill any empty values with 0, we can assume no data that there were no people vaccinated or it was not calculated"
   ],
   "metadata": {
    "collapsed": false,
    "pycharm": {
     "name": "#%% md\n"
    }
   }
  },
  {
   "cell_type": "code",
   "execution_count": 309,
   "outputs": [
    {
     "data": {
      "text/plain": "<AxesSubplot:ylabel='total_vaccinations'>"
     },
     "execution_count": 309,
     "metadata": {},
     "output_type": "execute_result"
    },
    {
     "data": {
      "text/plain": "<Figure size 432x288 with 1 Axes>",
      "image/png": "[encoded data removed]"
     },
     "metadata": {},
     "output_type": "display_data"
    }
   ],
   "source": [
    "vax.drop(columns=['source_website','source_name','country'], inplace=True)\n",
    "vax.dropna(subset=['iso_code'], inplace=True)\n",
    "vax.replace(np.nan, 0)\n",
    "vaxtotal = vax.total_vaccinations.groupby(vax.iso_code).sum()\n",
    "sortvax = vaxtotal.sort_values( ascending=False).head()\n",
    "sortvax = pd.DataFrame(sortvax)\n",
    "\n",
    "sortvax.plot(kind='pie',y='total_vaccinations')"
   ],
   "metadata": {
    "collapsed": false,
    "pycharm": {
     "name": "#%%\n"
    }
   }
  },
  {
   "cell_type": "markdown",
   "source": [
    "**Results** We have a pie chart of the top 5 countries that have done the highest total number of vaccinations over all time reported"
   ],
   "metadata": {
    "collapsed": false,
    "pycharm": {
     "name": "#%% md\n"
    }
   }
  }
 ],
 "metadata": {
  "kernelspec": {
   "display_name": "Python 3",
   "language": "python",
   "name": "python3"
  },
  "language_info": {
   "codemirror_mode": {
    "name": "ipython",
    "version": 2
   },
   "file_extension": ".py",
   "mimetype": "text/x-python",
   "name": "python",
   "nbconvert_exporter": "python",
   "pygments_lexer": "ipython2",
   "version": "2.7.6"
  }
 },
 "nbformat": 4,
 "nbformat_minor": 0
}